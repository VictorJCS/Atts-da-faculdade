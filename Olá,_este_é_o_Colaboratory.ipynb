{
  "cells": [
    {
      "cell_type": "markdown",
      "metadata": {
        "id": "view-in-github",
        "colab_type": "text"
      },
      "source": [
        "<a href=\"https://colab.research.google.com/github/VictorJCS/Atts-da-faculdade/blob/main/Ol%C3%A1%2C_este_%C3%A9_o_Colaboratory.ipynb\" target=\"_parent\"><img src=\"https://colab.research.google.com/assets/colab-badge.svg\" alt=\"Open In Colab\"/></a>"
      ]
    },
    {
      "cell_type": "code",
      "source": [
        "pessoa={\n",
        "  \"nome\":\"Cristine\",\n",
        "  \"ultimo_nome\":\"Dimoclis\",\n",
        "  \"idade\":\"27\",\n",
        "  \"curso\":\"Medicina\",\n",
        "  \"endereco\":\"Rua das Flores, n-973\",\n",
        "}\n",
        "print(pessoa)"
      ],
      "metadata": {
        "id": "Ej-PwyjSvtEm",
        "outputId": "7a33acc4-4da3-4e95-ee5f-3c93fab58c58",
        "colab": {
          "base_uri": "https://localhost:8080/"
        }
      },
      "execution_count": 8,
      "outputs": [
        {
          "output_type": "stream",
          "name": "stdout",
          "text": [
            "{'nome': 'Cristine', 'ultimo_nome': 'Dimoclis', 'idade': '27', 'curso': 'Medicina', 'endereco': 'Rua das Flores, n-973'}\n"
          ]
        }
      ]
    },
    {
      "cell_type": "code",
      "source": [
        "pessoa={\n",
        "  \"nome\":\"Cristine\",\n",
        "  \"ultimo_nome\":\"Dimoclis\",\n",
        "  \"idade\":\"27\",\n",
        "  \"curso\":\"Medicina\",\n",
        "  \"endereco\":\"Rua das Flores,973\",\n",
        "}\n",
        "print(\"Nome:\", pessoa['nome'])\n",
        "print(\"Último Nome:\", pessoa['ultimo_nome'])\n",
        "print(\"Idade:\", pessoa['idade'])\n",
        "print(\"Curso:\", pessoa['curso'])\n",
        "print(\"Endereço:\", pessoa['endereco'])"
      ],
      "metadata": {
        "id": "3LMoQ_AC0cY9",
        "outputId": "ed541788-2a2b-40c2-995d-446b394ca878",
        "colab": {
          "base_uri": "https://localhost:8080/"
        }
      },
      "execution_count": 7,
      "outputs": [
        {
          "output_type": "stream",
          "name": "stdout",
          "text": [
            "Nome: Cristine\n",
            "Último Nome: Dimoclis\n",
            "Idade: 27\n",
            "Curso: Medicina\n",
            "Endereço: Rua das Flores,973\n"
          ]
        }
      ]
    },
    {
      "cell_type": "code",
      "source": [
        "pessoa={\n",
        "    \"nome\":\"Luis\",\n",
        "    \"ultimo_nome\":\"lopes\",\n",
        "    \"idade\":\"25\",\n",
        "    \"endereco\":\"Rua dos lirios\",\n",
        "}\n",
        "print(pessoa)"
      ],
      "metadata": {
        "id": "U1ir4uPb2TH8",
        "outputId": "f3c3cbe7-7d3e-4c1d-f384-93c3254554dd",
        "colab": {
          "base_uri": "https://localhost:8080/"
        }
      },
      "execution_count": 9,
      "outputs": [
        {
          "output_type": "stream",
          "name": "stdout",
          "text": [
            "{'nome': 'Luis', 'ultimo_nome': 'lopes', 'idade': '25', 'endereco': 'Rua dos lirios'}\n"
          ]
        }
      ]
    },
    {
      "cell_type": "code",
      "source": [
        "endereco={\"endereco\":\"Rua dos lirios\",\n",
        "}\n",
        "print(endereco)"
      ],
      "metadata": {
        "id": "u1XaUJHl3qLQ",
        "outputId": "2f6a5729-723a-4642-b119-a5f2c51ac3cf",
        "colab": {
          "base_uri": "https://localhost:8080/"
        }
      },
      "execution_count": 17,
      "outputs": [
        {
          "output_type": "stream",
          "name": "stdout",
          "text": [
            "{'endereco': 'Rua dos lirios'}\n"
          ]
        }
      ]
    },
    {
      "cell_type": "code",
      "source": [
        "pessoa={\n",
        "    \"nome\":\"Cleiton\",\n",
        "    \"ultimo_nome\":\"lopes\",\n",
        "    \"idade\":\"23\",\n",
        "    \"endereco\":\"Rua dos lirios\",\n",
        "}\n",
        "print(pessoa)"
      ],
      "metadata": {
        "id": "fR92K4-OAVjC",
        "outputId": "abfece5d-965a-4162-d420-390878dfa91f",
        "colab": {
          "base_uri": "https://localhost:8080/"
        }
      },
      "execution_count": 18,
      "outputs": [
        {
          "output_type": "stream",
          "name": "stdout",
          "text": [
            "{'nome': 'Cleiton', 'ultimo_nome': 'lopes', 'idade': '23', 'endereco': 'Rua dos lirios'}\n"
          ]
        }
      ]
    }
  ],
  "metadata": {
    "colab": {
      "name": "Olá, este é o Colaboratory",
      "toc_visible": true,
      "provenance": [],
      "include_colab_link": true
    },
    "kernelspec": {
      "display_name": "Python 3",
      "name": "python3"
    }
  },
  "nbformat": 4,
  "nbformat_minor": 0
}