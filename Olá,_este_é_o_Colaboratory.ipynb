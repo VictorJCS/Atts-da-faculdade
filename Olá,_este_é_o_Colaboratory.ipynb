{
  "cells": [
    {
      "cell_type": "markdown",
      "metadata": {
        "id": "view-in-github",
        "colab_type": "text"
      },
      "source": [
        "<a href=\"https://colab.research.google.com/github/VictorJCS/Atts-da-faculdade/blob/main/Ol%C3%A1%2C_este_%C3%A9_o_Colaboratory.ipynb\" target=\"_parent\"><img src=\"https://colab.research.google.com/assets/colab-badge.svg\" alt=\"Open In Colab\"/></a>"
      ]
    },
    {
      "cell_type": "code",
      "source": [
        "Teste=\"apostila de python\"\n",
        "len(Teste)"
      ],
      "metadata": {
        "id": "FRzsJgMfcxzO",
        "outputId": "85fff8d5-c595-4555-d161-13f84964909d",
        "colab": {
          "base_uri": "https://localhost:8080/"
        }
      },
      "execution_count": 17,
      "outputs": [
        {
          "output_type": "execute_result",
          "data": {
            "text/plain": [
              "18"
            ]
          },
          "metadata": {},
          "execution_count": 17
        }
      ]
    },
    {
      "cell_type": "code",
      "source": [
        "A=\"python\"\n",
        "A.capitalize()"
      ],
      "metadata": {
        "id": "B9imwQbhlaP2",
        "outputId": "5b8def71-3c9c-4a8c-c48d-9b0894ce6b1b",
        "colab": {
          "base_uri": "https://localhost:8080/",
          "height": 35
        }
      },
      "execution_count": 18,
      "outputs": [
        {
          "output_type": "execute_result",
          "data": {
            "text/plain": [
              "'Python'"
            ],
            "application/vnd.google.colaboratory.intrinsic+json": {
              "type": "string"
            }
          },
          "metadata": {},
          "execution_count": 18
        }
      ]
    },
    {
      "cell_type": "code",
      "source": [
        "B=\"Linguagem Python\"\n",
        "B.count(\"n\")"
      ],
      "metadata": {
        "id": "haov3ZGzlrtM",
        "outputId": "b3d734d5-7443-4c4c-d36a-37ea768c8820",
        "colab": {
          "base_uri": "https://localhost:8080/"
        }
      },
      "execution_count": 20,
      "outputs": [
        {
          "output_type": "execute_result",
          "data": {
            "text/plain": [
              "2"
            ]
          },
          "metadata": {},
          "execution_count": 20
        }
      ]
    },
    {
      "cell_type": "code",
      "source": [
        "C=\"Python\"\n",
        "C.startswith(\"Py\")"
      ],
      "metadata": {
        "id": "qTPCobEYlwdJ",
        "outputId": "b2708e21-1b98-429d-8380-ae6f660f0455",
        "colab": {
          "base_uri": "https://localhost:8080/"
        }
      },
      "execution_count": 23,
      "outputs": [
        {
          "output_type": "execute_result",
          "data": {
            "text/plain": [
              "True"
            ]
          },
          "metadata": {},
          "execution_count": 23
        }
      ]
    },
    {
      "cell_type": "code",
      "source": [
        "Numero1=int(input(\"Informe um numero: \"))\n",
        "Numero2=int(input(\"Informe outro numero: \"))\n",
        "Op=Numero1+Numero2\n",
        "Op"
      ],
      "metadata": {
        "colab": {
          "base_uri": "https://localhost:8080/"
        },
        "id": "LMCgkqhcm5Ig",
        "outputId": "0aafdada-e72c-4dab-97a4-136c30b6925b"
      },
      "execution_count": 24,
      "outputs": [
        {
          "name": "stdout",
          "output_type": "stream",
          "text": [
            "Informe um numero: 10\n",
            "Informe outro numero: 3\n"
          ]
        },
        {
          "output_type": "execute_result",
          "data": {
            "text/plain": [
              "13"
            ]
          },
          "metadata": {},
          "execution_count": 24
        }
      ]
    },
    {
      "cell_type": "code",
      "source": [
        "Numero1=float(input(\"Informe um numero: \"))\n",
        "Numero2=float(input(\"Informe outro numero: \"))\n",
        "Op=Numero1/Numero2\n",
        "Op"
      ],
      "metadata": {
        "id": "lfTKYkx4nbav",
        "outputId": "4aad11bb-c3f4-4415-b9a6-0f707edcc05d",
        "colab": {
          "base_uri": "https://localhost:8080/"
        }
      },
      "execution_count": 25,
      "outputs": [
        {
          "name": "stdout",
          "output_type": "stream",
          "text": [
            "Informe um numero: 10\n",
            "Informe outro numero: 2\n"
          ]
        },
        {
          "output_type": "execute_result",
          "data": {
            "text/plain": [
              "5.0"
            ]
          },
          "metadata": {},
          "execution_count": 25
        }
      ]
    },
    {
      "cell_type": "code",
      "source": [
        "\n",
        "Base=int(input(\"Informe a base: \"))\n",
        "Altura=int(input(\"Informe a altura: \"))\n",
        "Op=Base*Altura\n",
        "Op"
      ],
      "metadata": {
        "id": "_jgnEid_nuv6",
        "outputId": "3a0c7fbb-8a15-4275-ed8d-39f0eea38058",
        "colab": {
          "base_uri": "https://localhost:8080/"
        }
      },
      "execution_count": 26,
      "outputs": [
        {
          "name": "stdout",
          "output_type": "stream",
          "text": [
            "Informe a base: 3\n",
            "Informe a altura: 7\n"
          ]
        },
        {
          "output_type": "execute_result",
          "data": {
            "text/plain": [
              "21"
            ]
          },
          "metadata": {},
          "execution_count": 26
        }
      ]
    },
    {
      "cell_type": "code",
      "source": [
        "Dic1={\"nome\":\"victor\",\"Sobrenome\":\"Cavalcante\"}\n",
        "Dic2={\"Luis\":\"001\",\"Antonio\":\"002\",\"Maria\":\"003\",\"Crystine\":\"004\"}"
      ],
      "metadata": {
        "id": "ILzofJd5o79N"
      },
      "execution_count": 27,
      "outputs": []
    }
  ],
  "metadata": {
    "colab": {
      "name": "Olá, este é o Colaboratory",
      "provenance": [],
      "include_colab_link": true
    },
    "kernelspec": {
      "display_name": "Python 3",
      "name": "python3"
    }
  },
  "nbformat": 4,
  "nbformat_minor": 0
}