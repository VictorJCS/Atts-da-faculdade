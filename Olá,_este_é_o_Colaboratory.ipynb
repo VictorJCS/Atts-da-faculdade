{
  "cells": [
    {
      "cell_type": "markdown",
      "metadata": {
        "id": "view-in-github",
        "colab_type": "text"
      },
      "source": [
        "<a href=\"https://colab.research.google.com/github/VictorJCS/Atts-da-faculdade/blob/main/Ol%C3%A1%2C_este_%C3%A9_o_Colaboratory.ipynb\" target=\"_parent\"><img src=\"https://colab.research.google.com/assets/colab-badge.svg\" alt=\"Open In Colab\"/></a>"
      ]
    },
    {
      "cell_type": "code",
      "source": [
        "print(\"Alunos - PLP Unifavip 2022.2\")"
      ],
      "metadata": {
        "id": "iCdhq2v32KjM",
        "outputId": "ba150bae-4b77-4d9c-f3bd-452e4cb3e3fb",
        "colab": {
          "base_uri": "https://localhost:8080/"
        }
      },
      "execution_count": 2,
      "outputs": [
        {
          "output_type": "stream",
          "name": "stdout",
          "text": [
            "Alunos - PLP Unifavip 2022.2\n"
          ]
        }
      ]
    },
    {
      "cell_type": "code",
      "source": [
        "x=float(input(\"Informe um número: \"))\n",
        "print(\"O número informado foi: \", x)"
      ],
      "metadata": {
        "id": "cuWjHOuy_Sgn",
        "outputId": "420f6401-ef98-4153-8aa1-4d42511c6a03",
        "colab": {
          "base_uri": "https://localhost:8080/"
        }
      },
      "execution_count": 7,
      "outputs": [
        {
          "output_type": "stream",
          "name": "stdout",
          "text": [
            "Informe um número: 10\n",
            "O número informado foi:  10.0\n"
          ]
        }
      ]
    },
    {
      "cell_type": "code",
      "source": [
        "x=float(input(\"Informe um número:\"))\n",
        "y=float(input(\"Informe outro número:\"))\n",
        "print(\"A soma dos números é: \", x + y)"
      ],
      "metadata": {
        "id": "-FWn0GoIH01O",
        "outputId": "f5d575c7-fbeb-4870-b91f-57c91e5a686c",
        "colab": {
          "base_uri": "https://localhost:8080/"
        }
      },
      "execution_count": 9,
      "outputs": [
        {
          "output_type": "stream",
          "name": "stdout",
          "text": [
            "Informe um número:15\n",
            "Informe outro número:7\n",
            "A soma dos números é:  22.0\n"
          ]
        }
      ]
    },
    {
      "cell_type": "code",
      "source": [
        "n1=float(input(\"Informe a primeira nota: \"))\n",
        "n2=float(input(\"Informe a segunda nota: \"))\n",
        "n3=float(input(\"Informe a terceira nota: \"))\n",
        "n4=float(input(\"Informe a quarta nota: \"))\n",
        "print(\"A média das notas é: \", (n1+n2+n3+n4)/4)\n"
      ],
      "metadata": {
        "id": "KxYoJNYCIFF6",
        "outputId": "284ee000-e323-47b7-8029-e0aac7400b3c",
        "colab": {
          "base_uri": "https://localhost:8080/"
        }
      },
      "execution_count": 14,
      "outputs": [
        {
          "output_type": "stream",
          "name": "stdout",
          "text": [
            "Informe a primeira nota: 7\n",
            "Informe a segunda nota: 8\n",
            "Informe a terceira nota: 9\n",
            "Informe a quarta nota: 10\n",
            "A média das notas é:  8.5\n"
          ]
        }
      ]
    },
    {
      "cell_type": "code",
      "source": [
        "metros=float(input(\"Informe a quantidade de metros que deseja converter para centimetros: \"))\n",
        "centimetro=metros*100\n",
        "centimetro"
      ],
      "metadata": {
        "id": "7LSoVzdKWCbi",
        "outputId": "a59b82fb-f6d3-4657-ddf9-c0e2a4057caf",
        "colab": {
          "base_uri": "https://localhost:8080/"
        }
      },
      "execution_count": 33,
      "outputs": [
        {
          "name": "stdout",
          "output_type": "stream",
          "text": [
            "Informe a quantidade de metros que deseja converter para centimetros: 1\n"
          ]
        },
        {
          "output_type": "execute_result",
          "data": {
            "text/plain": [
              "100.0"
            ]
          },
          "metadata": {},
          "execution_count": 33
        }
      ]
    },
    {
      "cell_type": "code",
      "source": [
        "raio=float(input(\"Informe o raio do círculo: \"))\n",
        "area=3.14*(raio**2)\n",
        "area"
      ],
      "metadata": {
        "id": "FXRzPMhGg032",
        "outputId": "f8af4682-49ad-45f2-8283-4d01432c6a1e",
        "colab": {
          "base_uri": "https://localhost:8080/"
        }
      },
      "execution_count": 36,
      "outputs": [
        {
          "name": "stdout",
          "output_type": "stream",
          "text": [
            "Informe o raio do círculo: 10\n"
          ]
        },
        {
          "output_type": "execute_result",
          "data": {
            "text/plain": [
              "314.0"
            ]
          },
          "metadata": {},
          "execution_count": 36
        }
      ]
    }
  ],
  "metadata": {
    "colab": {
      "name": "Olá, este é o Colaboratory",
      "toc_visible": true,
      "provenance": [],
      "include_colab_link": true
    },
    "kernelspec": {
      "display_name": "Python 3",
      "name": "python3"
    }
  },
  "nbformat": 4,
  "nbformat_minor": 0
}