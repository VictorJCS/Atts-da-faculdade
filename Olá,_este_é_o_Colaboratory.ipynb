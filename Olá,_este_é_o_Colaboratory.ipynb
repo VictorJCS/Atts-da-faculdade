{
  "cells": [
    {
      "cell_type": "markdown",
      "metadata": {
        "id": "view-in-github",
        "colab_type": "text"
      },
      "source": [
        "<a href=\"https://colab.research.google.com/github/VictorJCS/Atts-da-faculdade/blob/main/Ol%C3%A1%2C_este_%C3%A9_o_Colaboratory.ipynb\" target=\"_parent\"><img src=\"https://colab.research.google.com/assets/colab-badge.svg\" alt=\"Open In Colab\"/></a>"
      ]
    },
    {
      "cell_type": "code",
      "source": [
        "nome=input(\"Informe seu nome: \")\n",
        "print(\"Seu nome é: \",nome)"
      ],
      "metadata": {
        "colab": {
          "base_uri": "https://localhost:8080/"
        },
        "id": "FXhbrQ2CdoG-",
        "outputId": "9ffcdb12-ab56-4baf-ff38-b2047bb6b9d5"
      },
      "execution_count": 6,
      "outputs": [
        {
          "name": "stdout",
          "output_type": "stream",
          "text": [
            "Informe seu nome: 10\n"
          ]
        },
        {
          "output_type": "execute_result",
          "data": {
            "text/plain": [
              "10.0"
            ]
          },
          "metadata": {},
          "execution_count": 6
        }
      ]
    },
    {
      "cell_type": "code",
      "source": [
        "x=float(input(\"Informe o valor: \"))\n",
        "y=float(input(\"Informe o valor: \"))\n",
        "print(\"A soma dos valores é: \",x+y)\n",
        "print(\"A subtração dos valores é: \",x-y)\n",
        "print(\"A multiplicação dos valores é: \",x*y)\n",
        "print(\"A divisão dos valores é: \",x/y)"
      ],
      "metadata": {
        "colab": {
          "base_uri": "https://localhost:8080/"
        },
        "id": "bmmzOWogZhKA",
        "outputId": "c55a1caa-9676-4547-b3d6-6bfa8eb46526"
      },
      "execution_count": 7,
      "outputs": [
        {
          "output_type": "stream",
          "name": "stdout",
          "text": [
            "Informe o valor: 10\n",
            "Informe o valor: 2\n",
            "A soma dos valores é:  12.0\n",
            "A subtração dos valores é:  8.0\n",
            "A multiplicação dos valores é:  20.0\n",
            "A divisão dos valores é:  5.0\n"
          ]
        }
      ]
    },
    {
      "cell_type": "code",
      "source": [
        "pessoa={\n",
        "    \"nome\":\"Lula\",\n",
        "    \"ultimo nome\":\"faz o L\",\n",
        "    \"idade\":79,\n",
        "    \"curso\":\"malandro\",\n",
        "    \"endereço\":\"Rua dos bobos\"\n",
        "}\n",
        "print(pessoa)"
      ],
      "metadata": {
        "colab": {
          "base_uri": "https://localhost:8080/"
        },
        "id": "cOLx2YeyakI8",
        "outputId": "fdb24d03-09b6-4319-8c59-e2da2aaef043"
      },
      "execution_count": 8,
      "outputs": [
        {
          "output_type": "stream",
          "name": "stdout",
          "text": [
            "{'nome': 'Lula', 'ultimo nome': 'faz o L', 'idade': 79, 'curso': 'malandro', 'endereço': 'Rua dos bobos'}\n"
          ]
        }
      ]
    },
    {
      "cell_type": "code",
      "source": [
        "pessoa={\n",
        "    \"nome\":\"Lula\",\n",
        "    \"ultimo nome\":\"faz o L\",\n",
        "    \"idade\":79,\n",
        "    \"curso\":\"malandro\",\n",
        "    \"endereço\":\"Rua dos bobos\"\n",
        "}\n",
        "print(pessoa['nome'])\n",
        "print(pessoa['ultimo nome'])\n",
        "print(pessoa['idade'])\n",
        "print(pessoa['curso'])\n",
        "print(pessoa['endereço'])"
      ],
      "metadata": {
        "colab": {
          "base_uri": "https://localhost:8080/"
        },
        "id": "7p2aj4CLc8os",
        "outputId": "0173adfe-922e-4196-8517-c9913a02573e"
      },
      "execution_count": 10,
      "outputs": [
        {
          "output_type": "stream",
          "name": "stdout",
          "text": [
            "Lula\n",
            "faz o L\n",
            "79\n",
            "malandro\n",
            "Rua dos bobos\n"
          ]
        }
      ]
    },
    {
      "cell_type": "code",
      "source": [
        "pessoa={\n",
        "    \"nome\":\"Lula, joooorge\",\n",
        "    \"ultimo nome\":\"faz o L\",\n",
        "    \"idade\":79,\n",
        "    \"curso\":\"malandro\",\n",
        "    \"endereço\":\"Rua dos bobos\",\n",
        "}\n",
        "print(pessoa.values())"
      ],
      "metadata": {
        "colab": {
          "base_uri": "https://localhost:8080/"
        },
        "id": "F_ICFfeqehM9",
        "outputId": "cdacd72b-3817-4d9c-c586-61179d9d3089"
      },
      "execution_count": 14,
      "outputs": [
        {
          "output_type": "stream",
          "name": "stdout",
          "text": [
            "dict_values(['Lula, joooorge', 'faz o L', 79, 'malandro', 'Rua dos bobos'])\n"
          ]
        }
      ]
    },
    {
      "cell_type": "code",
      "source": [
        "pessoa={\n",
        "    \"nome\":\"Lula\",\n",
        "    \"ultimo nome\":\"faz o L\",\n",
        "    \"idade\":79,\n",
        "    \"curso\":\"malandro\",\n",
        "    \"endereço\":\"Rua dos bobos\",\n",
        "}\n",
        "for chave, valor in pessoa.items():\n",
        "    print(f\"{chave}: {valor}\")"
      ],
      "metadata": {
        "colab": {
          "base_uri": "https://localhost:8080/"
        },
        "id": "m5ZTeSAKfenq",
        "outputId": "66a9ce46-1d2d-49f3-8869-b38b7883e363"
      },
      "execution_count": 20,
      "outputs": [
        {
          "output_type": "stream",
          "name": "stdout",
          "text": [
            "nome: Lula\n",
            "ultimo nome: faz o L\n",
            "idade: 79\n",
            "curso: malandro\n",
            "endereço: Rua dos bobos\n"
          ]
        }
      ]
    },
    {
      "cell_type": "code",
      "source": [
        "dic1={\"nome\":\"Lula\",\"ultimo nome\":\"faz o L\",\"idade\":79,\"curso\":\"malandro\",\"endereço\":\"Rua dos bobos\",}\n",
        "dic2={\"nome\":\"Bosonaro\",\"ultimo nome\":\"faz o R\",\"idade\":75,\"curso\":\"pistolero\",\"endereço\":\"Rua das balas\",}\n",
        "dic1[\"nome\"]=\"jack\"\n",
        "print(dic1)\n",
        "print(dic1.get(\"nome\"))\n",
        "print(dic1.get(\"jack\"))\n",
        "dic1.delete\n",
        "dic1.clear\n",
        "dic1.copy"
      ],
      "metadata": {
        "colab": {
          "base_uri": "https://localhost:8080/"
        },
        "id": "tECHiV2DiQaZ",
        "outputId": "a35c8343-e52a-4e65-fca0-c2f1181d51c0"
      },
      "execution_count": 26,
      "outputs": [
        {
          "output_type": "stream",
          "name": "stdout",
          "text": [
            "{'nome': 'jack', 'ultimo nome': 'faz o L', 'idade': 79, 'curso': 'malandro', 'endereço': 'Rua dos bobos'}\n",
            "None\n"
          ]
        }
      ]
    },
    {
      "cell_type": "code",
      "source": [
        "dic1={\"nome\":\"Lula\",\"ultimo nome\":\"faz o L\",\"idade\":79,\"curso\":\"malandro\",\"endereço\":\"Rua dos bobos\",}\n",
        "dic2={\"nome\":\"Bosonaro\",\"ultimo nome\":\"faz o R\",\"idade\":75,\"curso\":\"pistolero\",\"endereço\":\"Rua das balas\",}\n",
        "\n",
        "print(dic1.items())"
      ],
      "metadata": {
        "colab": {
          "base_uri": "https://localhost:8080/"
        },
        "id": "xEFPEdldr8By",
        "outputId": "32b09b68-d389-4a84-d892-0e4e2cca4b6f"
      },
      "execution_count": 44,
      "outputs": [
        {
          "output_type": "stream",
          "name": "stdout",
          "text": [
            "dict_items([('nome', 'Lula'), ('ultimo nome', 'faz o L'), ('idade', 79), ('curso', 'malandro'), ('endereço', 'Rua dos bobos')])\n"
          ]
        }
      ]
    },
    {
      "cell_type": "code",
      "source": [
        "dic1={\"nome\":\"Lula\",\"ultimo nome\":\"faz o L\",\"idade\":79,\"curso\":\"malandro\",\"endereço\":\"Rua dos bobos\",}\n",
        "dic2={\"nome\":\"Bosonaro\",\"ultimo nome\":\"faz o R\",\"idade\":75,\"curso\":\"pistolero\",\"endereço\":\"Rua das balas\",}\n",
        "for chave, valor in pessoa.items():\n",
        "    print(f\"{chave}: {valor}\")"
      ],
      "metadata": {
        "colab": {
          "base_uri": "https://localhost:8080/"
        },
        "id": "jov6ExbLrC8E",
        "outputId": "467b38fc-b988-408d-baee-1a64086133be"
      },
      "execution_count": 45,
      "outputs": [
        {
          "output_type": "stream",
          "name": "stdout",
          "text": [
            "nome: Lula\n",
            "ultimo nome: faz o L\n",
            "idade: 79\n",
            "curso: malandro\n",
            "endereço: Rua dos bobos\n"
          ]
        }
      ]
    },
    {
      "cell_type": "code",
      "source": [
        "dic1={\"nome\":\"Lula\",\"ultimo nome\":\"faz o L\",\"idade\":79,\"curso\":\"malandro\",\"endereço\":\"Rua dos bobos\",}\n",
        "dic2={\"nome\":\"Bosonaro\",\"ultimo nome\":\"faz o R\",\"idade\":75,\"curso\":\"pistolero\",\"endereço\":\"Rua das balas\",}\n",
        "\n",
        "del dic2[\"curso\"]"
      ],
      "metadata": {
        "id": "Bcof7HaPrDMb"
      },
      "execution_count": 47,
      "outputs": []
    },
    {
      "cell_type": "code",
      "source": [
        "dic1={\"nome\":\"Lula\",\"ultimo nome\":\"faz o L\",\"idade\":79,\"curso\":\"malandro\",\"endereço\":\"Rua dos bobos\",}\n",
        "dic2={\"nome\":\"Bosonaro\",\"ultimo nome\":\"faz o R\",\"idade\":75,\"curso\":\"pistolero\",\"endereço\":\"Rua das balas\",}\n",
        "\n",
        "dic2[\"ultimo nome\"]=\"montero\""
      ],
      "metadata": {
        "id": "NtqBurbUrcDr"
      },
      "execution_count": 48,
      "outputs": []
    },
    {
      "cell_type": "code",
      "source": [
        "dic1={\"nome\":\"Lula\",\"ultimo nome\":\"faz o L\",\"idade\":79,\"curso\":\"malandro\",\"endereço\":\"Rua dos bobos\",}\n",
        "dic2={\"nome\":\"Bosonaro\",\"ultimo nome\":\"montero\",\"idade\":75,\"endereço\":\"Rua das balas\",}\n",
        "\n",
        "print(dic2.items())"
      ],
      "metadata": {
        "colab": {
          "base_uri": "https://localhost:8080/"
        },
        "id": "YieUT2X5rDab",
        "outputId": "f1b16145-5caa-46ad-a412-13d50d83a7ad"
      },
      "execution_count": 49,
      "outputs": [
        {
          "output_type": "stream",
          "name": "stdout",
          "text": [
            "dict_items([('nome', 'Bosonaro'), ('ultimo nome', 'faz o R'), ('idade', 75), ('curso', 'pistolero'), ('endereço', 'Rua das balas')])\n"
          ]
        }
      ]
    },
    {
      "cell_type": "code",
      "source": [
        "dic1={\"nome\":\"Lula\",\"ultimo nome\":\"faz o L\",\"idade\":79,\"curso\":\"malandro\",\"endereço\":\"Rua dos bobos\",}\n",
        "dic2={\"nome\":\"Bosonaro\",\"ultimo nome\":\"faz o R\",\"idade\":75,\"curso\":\"pistolero\",\"endereço\":\"Rua das balas\",}\n",
        "\n",
        "print(dic2[\"endereço\"])"
      ],
      "metadata": {
        "colab": {
          "base_uri": "https://localhost:8080/"
        },
        "id": "rSF-5YHRrDl8",
        "outputId": "5eb94bf9-6d51-4178-f875-e6b9c949f589"
      },
      "execution_count": 50,
      "outputs": [
        {
          "output_type": "stream",
          "name": "stdout",
          "text": [
            "Rua das balas\n"
          ]
        }
      ]
    },
    {
      "cell_type": "code",
      "source": [
        "idade= 18\n",
        "if idade<20:\n",
        "  print(\"Too young man\")"
      ],
      "metadata": {
        "colab": {
          "base_uri": "https://localhost:8080/"
        },
        "id": "LpaGjYtXsUGf",
        "outputId": "d162d95d-3abe-4255-e63f-71d29fc04412"
      },
      "execution_count": 52,
      "outputs": [
        {
          "output_type": "stream",
          "name": "stdout",
          "text": [
            "Too young man\n"
          ]
        }
      ]
    },
    {
      "cell_type": "code",
      "source": [
        "idade=int(input(\"informe sua idade: \"))\n",
        "if idade>=10 and idade<20:\n",
        "  print(\"Ta fedendo a leite\")\n",
        "elif idade>=20 and idade <30:\n",
        "  print(\" Es jovem ainda\")\n",
        "elif idade>=30 and idade <=100:\n",
        "    print(\"Jaja vai de vasco\")\n",
        "else:\n",
        "    print(\" Foi de americanas\")"
      ],
      "metadata": {
        "colab": {
          "base_uri": "https://localhost:8080/"
        },
        "id": "cZLlDsrAtL92",
        "outputId": "d3247ed4-2849-4862-c339-6b67655ee356"
      },
      "execution_count": 55,
      "outputs": [
        {
          "output_type": "stream",
          "name": "stdout",
          "text": [
            "informe sua idade: 47\n",
            "Jaja vai de vasco\n"
          ]
        }
      ]
    },
    {
      "cell_type": "code",
      "source": [
        "x=int(input(\"Informe o primeiro número:\"))\n",
        "y=int(input(\"Informe o segundo número:\"))\n",
        "if x>y:\n",
        "  print(\"O maior é o primeiro número:\",x)\n",
        "elif y>x:\n",
        "  print(\"O maior é o segundo número:\",y)\n",
        "else:\n",
        "  print(\"Informe um valor válido!\")"
      ],
      "metadata": {
        "id": "jAcAQx_TwzC2",
        "outputId": "81195664-b2af-46ee-aec0-0ce0b659b42d",
        "colab": {
          "base_uri": "https://localhost:8080/"
        }
      },
      "execution_count": 60,
      "outputs": [
        {
          "output_type": "stream",
          "name": "stdout",
          "text": [
            "Informe o primeiro número:5\n",
            "Informe o segundo número:7\n",
            "O maior é o segundo número: 7\n"
          ]
        }
      ]
    },
    {
      "cell_type": "code",
      "source": [
        "x=int(input(\"Informe um número:\"))\n",
        "if x>0:\n",
        "  print(\"O número é positivo:\",x)\n",
        "elif x<0:\n",
        "  print(\"O número é negativo:\",x)\n",
        "else:\n",
        "  print(\"O número é zero:\", x)"
      ],
      "metadata": {
        "id": "Tla0TvlQyYhD",
        "outputId": "f8100d1f-1ea6-47c3-c257-ddc39ceeccbd",
        "colab": {
          "base_uri": "https://localhost:8080/"
        }
      },
      "execution_count": 66,
      "outputs": [
        {
          "output_type": "stream",
          "name": "stdout",
          "text": [
            "Informe um número:17\n",
            "O número é positivo: 17\n"
          ]
        }
      ]
    },
    {
      "cell_type": "code",
      "source": [
        "print(\"informe uma letra!\")"
      ],
      "metadata": {
        "id": "xlzK5kfqzgcD"
      },
      "execution_count": null,
      "outputs": []
    }
  ],
  "metadata": {
    "colab": {
      "name": "Olá, este é o Colaboratory",
      "provenance": [],
      "include_colab_link": true
    },
    "kernelspec": {
      "display_name": "Python 3",
      "name": "python3"
    }
  },
  "nbformat": 4,
  "nbformat_minor": 0
}